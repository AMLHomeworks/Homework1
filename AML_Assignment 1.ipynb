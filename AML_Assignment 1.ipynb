{
 "cells": [
  {
   "cell_type": "markdown",
   "metadata": {},
   "source": [
    "## Advanced Machine Learning(2019/2020)\n",
    "### Exercise 1: Image Filtering and Object Identification\n",
    "\n",
    "* **Students**:Musie Meressa Berhe(1851620), Nguyen Phu Hien(1836702), Maureen Dzifa Awumee Quist(1850579)."
   ]
  },
  {
   "cell_type": "markdown",
   "metadata": {},
   "source": [
    "##### Review\n",
    "In this assignment, basic image filtering is being implemented to an image using the numpy and pandas. Filtering is subjected to an image in order to achieve outputs such as smoothing(reducing the noise), enhancement(improving the constract), to extact informations about edges or corners and also to detect image patterns. \n",
    "\n",
    "\n",
    "In the identification part, query images are being compared the images  with different distance functions such as the intersection distance, the euclidean distance and the chi-square distance. The functions are evaluated through thier performance in combination with the different types of image representation."
   ]
  },
  {
   "cell_type": "markdown",
   "metadata": {},
   "source": [
    "### Question 1: Image Filtering "
   ]
  },
  {
   "cell_type": "code",
   "execution_count": null,
   "metadata": {},
   "outputs": [],
   "source": []
  },
  {
   "cell_type": "markdown",
   "metadata": {},
   "source": [
    "### Question 2: Image Representation, Histogram Distances"
   ]
  },
  {
   "cell_type": "markdown",
   "metadata": {},
   "source": [
    "**Question 2a** uses the gray-value histogram for recognition of an image. That, it takes an image, converts into a gray image and computes an histogram of pixel intensity. This histogram of the image is then compared to the builtin python function numpy.histogram. \n",
    "\n",
    "Note: the pixel intensity varies from 0 to 255.\n",
    "\n",
    "The first histogram is the computed with numpy. It is seen that both histograms are the exact, except for the scale which varies. The normalized_hist does not normalize its output.\n",
    "\n",
    "**Question 2b** uses the RGB histogram  for recognition of an image. The first histogram is based on the full RGB(this is a joint of each color channel in the image) while the other is based on the RG (this is the joint of just the R and G color channel in the image). \n",
    "Using the Gaussian partial derivative, note that the actual image range will depend on the chosen filtering variance, computing the derivative.\n",
    "\n",
    "**Question 2c** Computing the distances. In order to compare histograms, there are 3 ways being implemented in this exercise\n",
    "* **the intersection distance**: here, smaller values represent that the histograms are similar \n",
    "* **the euclidean distance**: if the distance computed is equal to zero then the histograms in comparison are the same\n",
    "* **the chi-sqaure distance**"
   ]
  },
  {
   "cell_type": "markdown",
   "metadata": {},
   "source": [
    "### Question 3: Object Identification"
   ]
  },
  {
   "cell_type": "markdown",
   "metadata": {},
   "source": []
  },
  {
   "cell_type": "markdown",
   "metadata": {},
   "source": [
    "### Results"
   ]
  },
  {
   "cell_type": "code",
   "execution_count": null,
   "metadata": {},
   "outputs": [],
   "source": [
    "import identification"
   ]
  },
  {
   "cell_type": "code",
   "execution_count": null,
   "metadata": {},
   "outputs": [],
   "source": []
  },
  {
   "cell_type": "code",
   "execution_count": null,
   "metadata": {},
   "outputs": [],
   "source": []
  }
 ],
 "metadata": {
  "colab": {
   "collapsed_sections": [],
   "name": "HW1.ipynb",
   "provenance": []
  },
  "kernelspec": {
   "display_name": "Python 3",
   "language": "python",
   "name": "python3"
  },
  "language_info": {
   "codemirror_mode": {
    "name": "ipython",
    "version": 3
   },
   "file_extension": ".py",
   "mimetype": "text/x-python",
   "name": "python",
   "nbconvert_exporter": "python",
   "pygments_lexer": "ipython3",
   "version": "3.7.4"
  }
 },
 "nbformat": 4,
 "nbformat_minor": 1
}
